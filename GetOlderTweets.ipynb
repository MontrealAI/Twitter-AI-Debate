{
  "nbformat": 4,
  "nbformat_minor": 0,
  "metadata": {
    "colab": {
      "name": "GetOlderTweets",
      "provenance": [],
      "collapsed_sections": []
    },
    "kernelspec": {
      "name": "python3",
      "display_name": "Python 3"
    }
  },
  "cells": [
    {
      "cell_type": "code",
      "metadata": {
        "id": "NHRefor0zA5P",
        "colab_type": "code",
        "outputId": "a40e74aa-be6c-45f5-f0db-d72cb938a2b4",
        "colab": {
          "base_uri": "https://localhost:8080/",
          "height": 129
        }
      },
      "source": [
        "# Mount your google drive to the colab environment\n",
        "from google.colab import drive\n",
        "drive.mount('/content/gdrive')"
      ],
      "execution_count": 0,
      "outputs": [
        {
          "output_type": "stream",
          "text": [
            "Go to this URL in a browser: https://accounts.google.com/o/oauth2/auth?client_id=947318989803-6bn6qk8qdgf4n4g3pfee6491hc0brc4i.apps.googleusercontent.com&redirect_uri=urn%3aietf%3awg%3aoauth%3a2.0%3aoob&response_type=code&scope=email%20https%3a%2f%2fwww.googleapis.com%2fauth%2fdocs.test%20https%3a%2f%2fwww.googleapis.com%2fauth%2fdrive%20https%3a%2f%2fwww.googleapis.com%2fauth%2fdrive.photos.readonly%20https%3a%2f%2fwww.googleapis.com%2fauth%2fpeopleapi.readonly\n",
            "\n",
            "Enter your authorization code:\n",
            "··········\n",
            "Mounted at /content/gdrive\n"
          ],
          "name": "stdout"
        }
      ]
    },
    {
      "cell_type": "code",
      "metadata": {
        "id": "gKmeCh5kyXfV",
        "colab_type": "code",
        "outputId": "20ac361a-4f9b-41b8-912c-3141adaea888",
        "colab": {
          "base_uri": "https://localhost:8080/",
          "height": 109
        }
      },
      "source": [
        "# clone the required library from the Github to get older tweets\n",
        "!git clone https://github.com/Jefferson-Henrique/GetOldTweets-python.git"
      ],
      "execution_count": 0,
      "outputs": [
        {
          "output_type": "stream",
          "text": [
            "Cloning into 'GetOldTweets-python'...\n",
            "remote: Enumerating objects: 230, done.\u001b[K\n",
            "remote: Total 230 (delta 0), reused 0 (delta 0), pack-reused 230\u001b[K\n",
            "Receiving objects: 100% (230/230), 45.18 KiB | 711.00 KiB/s, done.\n",
            "Resolving deltas: 100% (93/93), done.\n"
          ],
          "name": "stdout"
        }
      ]
    },
    {
      "cell_type": "code",
      "metadata": {
        "id": "cwE3z88oy5IT",
        "colab_type": "code",
        "outputId": "8cdf1dbb-4404-4038-f68f-e9e46e2bfb58",
        "colab": {
          "base_uri": "https://localhost:8080/",
          "height": 202
        }
      },
      "source": [
        "# go to the proper directory and also install pyquery library to run the codes\n",
        "%cd /content/GetOldTweets-python/\n",
        "!ls\n",
        "\n",
        "!pip install pyquery==1.2.10"
      ],
      "execution_count": 0,
      "outputs": [
        {
          "output_type": "stream",
          "text": [
            "/content/GetOldTweets-python\n",
            "exporter_help_text.txt\tgot   LICENSE  README.md\n",
            "Exporter.py\t\tgot3  Main.py  requirements.txt\n",
            "Processing /root/.cache/pip/wheels/88/46/56/64827a3a40b94ce29e5d61ebc82deec2e2ee9695c55b0549ad/pyquery-1.2.10-cp36-none-any.whl\n",
            "Collecting cssselect>0.7.9\n",
            "  Using cached https://files.pythonhosted.org/packages/3b/d4/3b5c17f00cce85b9a1e6f91096e1cc8e8ede2e1be8e96b87ce1ed09e92c5/cssselect-1.1.0-py2.py3-none-any.whl\n",
            "Requirement already satisfied: lxml>=2.1 in /usr/local/lib/python3.6/dist-packages (from pyquery==1.2.10) (4.2.6)\n",
            "Installing collected packages: cssselect, pyquery\n",
            "Successfully installed cssselect-1.1.0 pyquery-1.2.10\n"
          ],
          "name": "stdout"
        }
      ]
    },
    {
      "cell_type": "code",
      "metadata": {
        "id": "XCKPT7KD1Bcl",
        "colab_type": "code",
        "outputId": "10e7309c-f94b-4c00-fdee-d85e17c8e534",
        "colab": {
          "base_uri": "https://localhost:8080/",
          "height": 1000
        }
      },
      "source": [
        "# Get Older Tweets\n",
        "import got3\n",
        "\n",
        "# set the criteria for your desired tweets\n",
        "tweetCriteria = got3.manager.TweetCriteria().setQuerySearch('#AIDebate').setSince(\"2019-12-16\").setUntil(\"2019-12-24\").setMaxTweets(100000000)\n",
        "tweets = got3.manager.TweetManager.getTweets(tweetCriteria) #collect data\n",
        "\n",
        "#write the tweets' data in a dictionary\n",
        "for tweet in tweets:\n",
        "  tweet_data = {\n",
        "      \"ID\": tweet.id,\n",
        "      \"permalink\": tweet.permalink,\n",
        "      \"username\": tweet.username,\n",
        "      \"text\": tweet.text,\n",
        "      \"date\": tweet.date,\n",
        "      \"formatted_date\": tweet.formatted_date,\n",
        "      \"retweets\": tweet.retweets,\n",
        "      \"favorites\": tweet.favorites,\n",
        "      \"mentions\": tweet.mentions,\n",
        "      \"hashtags\": tweet.hashtags,\n",
        "      \"geo\": tweet.geo,\n",
        "      \"urls\": tweet.urls,\n",
        "      \"author_id\": tweet.author_id\n",
        "  }\n",
        "\n",
        "  # write the data to a file in a json format\n",
        "  with open('/content/gdrive/My Drive/Colab Notebooks/Twitter_Analysis/OLD_tweets_with_hashtag_AIDebate.txt', 'a') as the_file:\n",
        "    the_file.write(str(tweet_data) + '\\n')\n",
        "    print(str(tweet_data) + '\\n')\n",
        "\n"
      ],
      "execution_count": 0,
      "outputs": [
        {
          "output_type": "stream",
          "text": [
            "{'ID': '1209262395799023616', 'permalink': 'https://twitter.com/JesParent/status/1209262395799023616', 'username': '', 'text': \"#aidebate : Bengio's first slide Main points on the future of AI and Deep Learning pic.twitter.com/vQwau7P7Bz\", 'date': datetime.datetime(2019, 12, 23, 23, 59, 56), 'formatted_date': 'Mon Dec 23 23:59:56 +0000 2019', 'retweets': 3, 'favorites': 4, 'mentions': '', 'hashtags': '#aidebate', 'geo': '', 'urls': '', 'author_id': 929029531}\n",
            "\n",
            "{'ID': '1209262312181391360', 'permalink': 'https://twitter.com/rgblong/status/1209262312181391360', 'username': '', 'text': 'Since the #AIDebate is going to reference compositionality a lot, check out the SEP article: https:// plato.stanford.edu/entries/compos itionality/ …', 'date': datetime.datetime(2019, 12, 23, 23, 59, 36), 'formatted_date': 'Mon Dec 23 23:59:36 +0000 2019', 'retweets': 0, 'favorites': 1, 'mentions': '', 'hashtags': '#AIDebate', 'geo': '', 'urls': 'https://plato.stanford.edu/entries/compositionality/', 'author_id': 1247652517}\n",
            "\n",
            "{'ID': '1209262302584807425', 'permalink': 'https://twitter.com/ProfessorOge/status/1209262302584807425', 'username': '', 'text': 'The impact of David Marr’s framework still lives on, almost 40 years after his premature death, as we saw in @GaryMarcus opening statement. #AIDebate https:// en.m.wikipedia.org/wiki/David_Mar r_(neuroscientist) …', 'date': datetime.datetime(2019, 12, 23, 23, 59, 34), 'formatted_date': 'Mon Dec 23 23:59:34 +0000 2019', 'retweets': 5, 'favorites': 21, 'mentions': '@GaryMarcus', 'hashtags': '#AIDebate', 'geo': '', 'urls': 'https://en.m.wikipedia.org/wiki/David_Marr_(neuroscientist)', 'author_id': 299125735}\n",
            "\n",
            "{'ID': '1209262208095535105', 'permalink': 'https://twitter.com/batssiki/status/1209262208095535105', 'username': '', 'text': '@GaryMarcus summary: Bring symbolism back, build priors into networks, make efforts to identify where DCNNs and human brains diverge! #AIDebate', 'date': datetime.datetime(2019, 12, 23, 23, 59, 12), 'formatted_date': 'Mon Dec 23 23:59:12 +0000 2019', 'retweets': 1, 'favorites': 1, 'mentions': '@GaryMarcus', 'hashtags': '#AIDebate', 'geo': '', 'urls': '', 'author_id': 906228771467870208}\n",
            "\n",
            "{'ID': '1209261980411932677', 'permalink': 'https://twitter.com/MichaelPayton67/status/1209261980411932677', 'username': '', 'text': 'Awesome opening statement by @GaryMarcus for the #AIDebate : I think debates where there’s more agreement than disagreement are the best. More focus, more depth', 'date': datetime.datetime(2019, 12, 23, 23, 58, 17), 'formatted_date': 'Mon Dec 23 23:58:17 +0000 2019', 'retweets': 1, 'favorites': 14, 'mentions': '@GaryMarcus', 'hashtags': '#AIDebate', 'geo': '', 'urls': '', 'author_id': 304578582}\n",
            "\n",
            "{'ID': '1209261939496538113', 'permalink': 'https://twitter.com/AngeloDalli/status/1209261939496538113', 'username': '', 'text': '“Neural networks need to be integrated along symbolic processing systems... while the generalization performance goes up as the amount of innate knowledge goes up... Failure to extrapolate beyond training data is the biggest problem in #DeepLearning ” #AIDebate @GaryMarcus pic.twitter.com/s7xzN3bIDi', 'date': datetime.datetime(2019, 12, 23, 23, 58, 8), 'formatted_date': 'Mon Dec 23 23:58:08 +0000 2019', 'retweets': 14, 'favorites': 30, 'mentions': '@GaryMarcus', 'hashtags': '#DeepLearning #AIDebate', 'geo': '', 'urls': '', 'author_id': 22894187}\n",
            "\n",
            "{'ID': '1209261687964143616', 'permalink': 'https://twitter.com/UsmanSattarMD/status/1209261687964143616', 'username': '', 'text': \"Great opening presentation by @GaryMarcus at #AIDebate Amazing to see how much Gary & Yoshua actually agree upon on in this debate (at least of late). Let's hear from Yoshua now\", 'date': datetime.datetime(2019, 12, 23, 23, 57, 8), 'formatted_date': 'Mon Dec 23 23:57:08 +0000 2019', 'retweets': 3, 'favorites': 14, 'mentions': '@GaryMarcus', 'hashtags': '#AIDebate', 'geo': '', 'urls': '', 'author_id': 320946636}\n",
            "\n",
            "{'ID': '1209261416630247424', 'permalink': 'https://twitter.com/iandanforth/status/1209261416630247424', 'username': '', 'text': '@jeffclune career news via #AIDebate ?', 'date': datetime.datetime(2019, 12, 23, 23, 56, 3), 'formatted_date': 'Mon Dec 23 23:56:03 +0000 2019', 'retweets': 0, 'favorites': 2, 'mentions': '@jeffclune', 'hashtags': '#AIDebate', 'geo': '', 'urls': '', 'author_id': 14596050}\n",
            "\n",
            "{'ID': '1209260959153426433', 'permalink': 'https://twitter.com/hameliknaoh/status/1209260959153426433', 'username': '', 'text': 'The neural network watching the #AIDebate be like... pic.twitter.com/Dr0mqDTe10', 'date': datetime.datetime(2019, 12, 23, 23, 54, 14), 'formatted_date': 'Mon Dec 23 23:54:14 +0000 2019', 'retweets': 0, 'favorites': 0, 'mentions': '', 'hashtags': '#AIDebate', 'geo': '', 'urls': '', 'author_id': 1150501570678800384}\n",
            "\n",
            "{'ID': '1209260815154630658', 'permalink': 'https://twitter.com/JesParent/status/1209260815154630658', 'username': '', 'text': '#aidebate : what kind of neural net is the brain? hybrid models and deep learning / bio. @GaryMarcus pic.twitter.com/6P9yiqOg2N', 'date': datetime.datetime(2019, 12, 23, 23, 53, 39), 'formatted_date': 'Mon Dec 23 23:53:39 +0000 2019', 'retweets': 3, 'favorites': 20, 'mentions': '@GaryMarcus', 'hashtags': '#aidebate', 'geo': '', 'urls': '', 'author_id': 929029531}\n",
            "\n",
            "{'ID': '1209260758762184705', 'permalink': 'https://twitter.com/tsp_thomas/status/1209260758762184705', 'username': '', 'text': 'I think nobody disagrees that the marriage of DL and symbolic AI is a good direction. Maybe the question is how to do that and overcome the challenges #AIDebate', 'date': datetime.datetime(2019, 12, 23, 23, 53, 26), 'formatted_date': 'Mon Dec 23 23:53:26 +0000 2019', 'retweets': 1, 'favorites': 18, 'mentions': '', 'hashtags': '#AIDebate', 'geo': '', 'urls': '', 'author_id': 35926248}\n",
            "\n",
            "{'ID': '1209259993389764608', 'permalink': 'https://twitter.com/raamana_/status/1209259993389764608', 'username': '', 'text': '“I’d like Yoshua to cite me a little bit ... “ makes me really sad to hear this from @GaryMarcus #AIDebate', 'date': datetime.datetime(2019, 12, 23, 23, 50, 24), 'formatted_date': 'Mon Dec 23 23:50:24 +0000 2019', 'retweets': 0, 'favorites': 3, 'mentions': '@GaryMarcus', 'hashtags': '#AIDebate', 'geo': '', 'urls': '', 'author_id': 110940386}\n",
            "\n",
            "{'ID': '1209259714758008832', 'permalink': 'https://twitter.com/rgblong/status/1209259714758008832', 'username': '', 'text': 'I think the thing I most want out of the #AIDebate is more specificity on what a \"hybrid system\" is supposed to be @GaryMarcus', 'date': datetime.datetime(2019, 12, 23, 23, 49, 17), 'formatted_date': 'Mon Dec 23 23:49:17 +0000 2019', 'retweets': 0, 'favorites': 1, 'mentions': '@GaryMarcus', 'hashtags': '#AIDebate', 'geo': '', 'urls': '', 'author_id': 1247652517}\n",
            "\n",
            "{'ID': '1209258906456907776', 'permalink': 'https://twitter.com/JesParent/status/1209258906456907776', 'username': '', 'text': '#aidebate @GaryMarcus academic conclusions on AI / cognitive science and limits of deep learning. pic.twitter.com/ygP3wH9gbl', 'date': datetime.datetime(2019, 12, 23, 23, 46, 4), 'formatted_date': 'Mon Dec 23 23:46:04 +0000 2019', 'retweets': 0, 'favorites': 4, 'mentions': '@GaryMarcus', 'hashtags': '#aidebate', 'geo': '', 'urls': '', 'author_id': 929029531}\n",
            "\n",
            "{'ID': '1209258401835806720', 'permalink': 'https://twitter.com/JazBerri/status/1209258401835806720', 'username': '', 'text': 'Live #AI Debate happening now. @GaryMarcus v. Yoshua Bengio, on the best way to move forward in the AI space. \"We\\'re not out for blood, but rather in search for truth.\" #AIDebate pic.twitter.com/enSRoIwgnb', 'date': datetime.datetime(2019, 12, 23, 23, 44, 4), 'formatted_date': 'Mon Dec 23 23:44:04 +0000 2019', 'retweets': 0, 'favorites': 5, 'mentions': '@GaryMarcus', 'hashtags': '#AI #AIDebate', 'geo': '', 'urls': '', 'author_id': 146304997}\n",
            "\n",
            "{'ID': '1209258343619059712', 'permalink': 'https://twitter.com/JesParent/status/1209258343619059712', 'username': '', 'text': '#aidebate @GaryMarcus on the algebraic mind pic.twitter.com/3vdgZOxSGO', 'date': datetime.datetime(2019, 12, 23, 23, 43, 50), 'formatted_date': 'Mon Dec 23 23:43:50 +0000 2019', 'retweets': 0, 'favorites': 1, 'mentions': '@GaryMarcus', 'hashtags': '#aidebate', 'geo': '', 'urls': '', 'author_id': 929029531}\n",
            "\n",
            "{'ID': '1209258269543424000', 'permalink': 'https://twitter.com/rgblong/status/1209258269543424000', 'username': '', 'text': \"Here's a link to the #AIDebate https://www. eventbrite.ca/e/debate-yoshu a-bengio-gary-marcus-live-streaming-tickets-81620778947 …\", 'date': datetime.datetime(2019, 12, 23, 23, 43, 33), 'formatted_date': 'Mon Dec 23 23:43:33 +0000 2019', 'retweets': 0, 'favorites': 1, 'mentions': '', 'hashtags': '#AIDebate', 'geo': '', 'urls': 'https://www.eventbrite.ca/e/debate-yoshua-bengio-gary-marcus-live-streaming-tickets-81620778947', 'author_id': 1247652517}\n",
            "\n",
            "{'ID': '1209258022234546176', 'permalink': 'https://twitter.com/surangasms01/status/1209258022234546176', 'username': '', 'text': 'Watching #AIDebate', 'date': datetime.datetime(2019, 12, 23, 23, 42, 34), 'formatted_date': 'Mon Dec 23 23:42:34 +0000 2019', 'retweets': 0, 'favorites': 0, 'mentions': '', 'hashtags': '#AIDebate', 'geo': '', 'urls': '', 'author_id': 124669129}\n",
            "\n",
            "{'ID': '1209257487892930561', 'permalink': 'https://twitter.com/batssiki/status/1209257487892930561', 'username': '', 'text': 'I have the sense that the case for more work in the domain of unsupervised learning is going to be made several times in this #AIDebate !', 'date': datetime.datetime(2019, 12, 23, 23, 40, 26), 'formatted_date': 'Mon Dec 23 23:40:26 +0000 2019', 'retweets': 0, 'favorites': 2, 'mentions': '', 'hashtags': '#AIDebate', 'geo': '', 'urls': '', 'author_id': 906228771467870208}\n",
            "\n",
            "{'ID': '1209257001160560641', 'permalink': 'https://twitter.com/artsci00/status/1209257001160560641', 'username': '', 'text': 'Don’t miss out on the #AIDebate of the decade with leaders Yoshua Bengio and @GaryMarcus streaming live! Grabbing my popcorn https://www. eventbrite.ca/e/debate-yoshu a-bengio-gary-marcus-tickets-79079020479?ref=eios …', 'date': datetime.datetime(2019, 12, 23, 23, 38, 30), 'formatted_date': 'Mon Dec 23 23:38:30 +0000 2019', 'retweets': 0, 'favorites': 2, 'mentions': '@GaryMarcus', 'hashtags': '#AIDebate', 'geo': '', 'urls': 'https://www.eventbrite.ca/e/debate-yoshua-bengio-gary-marcus-tickets-79079020479?ref=eios', 'author_id': 2983326473}\n",
            "\n",
            "{'ID': '1209256963818872832', 'permalink': 'https://twitter.com/JesParent/status/1209256963818872832', 'username': '', 'text': '#aidebate @GaryMarcus first slide, cognitive science and AI pic.twitter.com/12oY5tlO7X', 'date': datetime.datetime(2019, 12, 23, 23, 38, 21), 'formatted_date': 'Mon Dec 23 23:38:21 +0000 2019', 'retweets': 0, 'favorites': 3, 'mentions': '@GaryMarcus', 'hashtags': '#aidebate', 'geo': '', 'urls': '', 'author_id': 929029531}\n",
            "\n",
            "{'ID': '1209256866171236352', 'permalink': 'https://twitter.com/mfi82/status/1209256866171236352', 'username': '', 'text': \"If you are interested in #AI , consider following this discussion - it's bound to be interesting :) #AIDebate https:// twitter.com/GaryMarcus/sta tus/1209254078087409665 …\", 'date': datetime.datetime(2019, 12, 23, 23, 37, 58), 'formatted_date': 'Mon Dec 23 23:37:58 +0000 2019', 'retweets': 0, 'favorites': 2, 'mentions': '', 'hashtags': '#AI #AIDebate', 'geo': '', 'urls': 'https://twitter.com/GaryMarcus/status/1209254078087409665', 'author_id': 19667527}\n",
            "\n",
            "{'ID': '1209256760256667648', 'permalink': 'https://twitter.com/KrishnaswamyLab/status/1209256760256667648', 'username': '', 'text': 'Taking a break from holiday chaos to watch some AI chaos, #AIDebate between Bengio and @GaryMarcus at @MILAMontreal ! pic.twitter.com/VwPbw7fwjl – bei Mila', 'date': datetime.datetime(2019, 12, 23, 23, 37, 33), 'formatted_date': 'Mon Dec 23 23:37:33 +0000 2019', 'retweets': 1, 'favorites': 5, 'mentions': '@GaryMarcus @MILAMontreal', 'hashtags': '#AIDebate', 'geo': '', 'urls': '', 'author_id': 835623319097454598}\n",
            "\n",
            "{'ID': '1209256652815224832', 'permalink': 'https://twitter.com/_ivana__anavi_/status/1209256652815224832', 'username': '', 'text': 'Guess what time it is? #AIDebate pic.twitter.com/NlK9j1AZJi', 'date': datetime.datetime(2019, 12, 23, 23, 37, 7), 'formatted_date': 'Mon Dec 23 23:37:07 +0000 2019', 'retweets': 0, 'favorites': 5, 'mentions': '', 'hashtags': '#AIDebate', 'geo': '', 'urls': '', 'author_id': 2303998730}\n",
            "\n",
            "{'ID': '1209256436292698113', 'permalink': 'https://twitter.com/swarnasras/status/1209256436292698113', 'username': '', 'text': 'What would or should the landscape for AI look like going into the next decade? Boundaries that would stay and fade away. #AIDebate #questions @GaryMarcus @Montreal_AI', 'date': datetime.datetime(2019, 12, 23, 23, 36, 15), 'formatted_date': 'Mon Dec 23 23:36:15 +0000 2019', 'retweets': 0, 'favorites': 0, 'mentions': '@GaryMarcus @Montreal_AI', 'hashtags': '#AIDebate #questions', 'geo': '', 'urls': '', 'author_id': 14659469}\n",
            "\n",
            "{'ID': '1209256413798764549', 'permalink': 'https://twitter.com/ProfessorOge/status/1209256413798764549', 'username': '', 'text': '#AIDebate : opening statement by @GaryMarcus starting now', 'date': datetime.datetime(2019, 12, 23, 23, 36, 10), 'formatted_date': 'Mon Dec 23 23:36:10 +0000 2019', 'retweets': 0, 'favorites': 0, 'mentions': '@GaryMarcus', 'hashtags': '#AIDebate', 'geo': '', 'urls': '', 'author_id': 299125735}\n",
            "\n",
            "{'ID': '1209256162820083713', 'permalink': 'https://twitter.com/JesParent/status/1209256162820083713', 'username': '', 'text': '#AIDebate live streaming now! (Lol AI coming before A/V) @Montreal_AI @GaryMarcus Yoshua Bengio https://www. facebook.com/MontrealAI/vid eos/498403850881660/?v=498403850881660 …', 'date': datetime.datetime(2019, 12, 23, 23, 35, 10), 'formatted_date': 'Mon Dec 23 23:35:10 +0000 2019', 'retweets': 0, 'favorites': 0, 'mentions': '@Montreal_AI @GaryMarcus', 'hashtags': '#AIDebate', 'geo': '', 'urls': 'https://www.facebook.com/MontrealAI/videos/498403850881660/?v=498403850881660', 'author_id': 929029531}\n",
            "\n",
            "{'ID': '1209256109556555777', 'permalink': 'https://twitter.com/batssiki/status/1209256109556555777', 'username': '', 'text': 'Opening: \"This event is a Christmas gift from @MILAMontreal to the international AI community!\" #AIDebate', 'date': datetime.datetime(2019, 12, 23, 23, 34, 58), 'formatted_date': 'Mon Dec 23 23:34:58 +0000 2019', 'retweets': 0, 'favorites': 0, 'mentions': '@MILAMontreal', 'hashtags': '#AIDebate', 'geo': '', 'urls': '', 'author_id': 906228771467870208}\n",
            "\n",
            "{'ID': '1209256000294998016', 'permalink': 'https://twitter.com/DeReeberg/status/1209256000294998016', 'username': '', 'text': 'Cheering for the knowledge #AIDebate', 'date': datetime.datetime(2019, 12, 23, 23, 34, 32), 'formatted_date': 'Mon Dec 23 23:34:32 +0000 2019', 'retweets': 0, 'favorites': 1, 'mentions': '', 'hashtags': '#AIDebate', 'geo': '', 'urls': '', 'author_id': 2972067297}\n",
            "\n",
            "{'ID': '1209255742068469766', 'permalink': 'https://twitter.com/gigasquid/status/1209255742068469766', 'username': '', 'text': 'Agenda looks great #AIDebate pic.twitter.com/wNBf3LbHAl', 'date': datetime.datetime(2019, 12, 23, 23, 33, 30), 'formatted_date': 'Mon Dec 23 23:33:30 +0000 2019', 'retweets': 1, 'favorites': 3, 'mentions': '', 'hashtags': '#AIDebate', 'geo': '', 'urls': '', 'author_id': 115557940}\n",
            "\n",
            "{'ID': '1209255562959081476', 'permalink': 'https://twitter.com/MichaelJKanaan/status/1209255562959081476', 'username': '', 'text': 'Watching Monday Night Countdown, at the same time streaming this #AIdebate , all while wondering if really I just want to watch another episode of The Witcher... What have I become', 'date': datetime.datetime(2019, 12, 23, 23, 32, 47), 'formatted_date': 'Mon Dec 23 23:32:47 +0000 2019', 'retweets': 0, 'favorites': 1, 'mentions': '', 'hashtags': '#AIdebate', 'geo': '', 'urls': '', 'author_id': 935376182010433536}\n",
            "\n",
            "{'ID': '1209254917397008386', 'permalink': 'https://twitter.com/sd_marlow/status/1209254917397008386', 'username': '', 'text': '#AIDebate', 'date': datetime.datetime(2019, 12, 23, 23, 30, 13), 'formatted_date': 'Mon Dec 23 23:30:13 +0000 2019', 'retweets': 0, 'favorites': 0, 'mentions': '', 'hashtags': '#AIDebate', 'geo': '', 'urls': '', 'author_id': 41087685}\n",
            "\n",
            "{'ID': '1209254668272095232', 'permalink': 'https://twitter.com/rgblong/status/1209254668272095232', 'username': '', 'text': \"Getting ready to watch the Bengio / @GaryMarcus #AIDebate , in a Dunkin' Donuts in Augusta, GA, eating a @BeyondMeat breakfast sandwich. 2019!!\", 'date': datetime.datetime(2019, 12, 23, 23, 29, 14), 'formatted_date': 'Mon Dec 23 23:29:14 +0000 2019', 'retweets': 0, 'favorites': 0, 'mentions': '@GaryMarcus @BeyondMeat', 'hashtags': '#AIDebate', 'geo': '', 'urls': '', 'author_id': 1247652517}\n",
            "\n",
            "{'ID': '1209254603725754368', 'permalink': 'https://twitter.com/TonnerJackson/status/1209254603725754368', 'username': '', 'text': \"#AIDebate link... hasn't populated on FB page (that I can see). https:// twitter.com/GaryMarcus/sta tus/1209254078087409665 …\", 'date': datetime.datetime(2019, 12, 23, 23, 28, 59), 'formatted_date': 'Mon Dec 23 23:28:59 +0000 2019', 'retweets': 0, 'favorites': 1, 'mentions': '', 'hashtags': '#AIDebate', 'geo': '', 'urls': 'https://twitter.com/GaryMarcus/status/1209254078087409665', 'author_id': 186915069}\n",
            "\n",
            "{'ID': '1209254410750087168', 'permalink': 'https://twitter.com/rhyolight/status/1209254410750087168', 'username': '', 'text': 'We just overheard they will \"be starting on time\". That means 2 minutes. #AIDebate https://www. twitch.tv/rhyolight_ pic.twitter.com/vO6zqncK9U', 'date': datetime.datetime(2019, 12, 23, 23, 28, 13), 'formatted_date': 'Mon Dec 23 23:28:13 +0000 2019', 'retweets': 0, 'favorites': 0, 'mentions': '', 'hashtags': '#AIDebate', 'geo': '', 'urls': 'https://www.twitch.tv/rhyolight_', 'author_id': 6797182}\n",
            "\n",
            "{'ID': '1209254165790253057', 'permalink': 'https://twitter.com/gigasquid/status/1209254165790253057', 'username': '', 'text': 'Got my beer and ready to watch the #AIDebate Live https://www. facebook.com/MontrealAI/vid eos/498403850881660/ … pic.twitter.com/dmwI1CPXET', 'date': datetime.datetime(2019, 12, 23, 23, 27, 14), 'formatted_date': 'Mon Dec 23 23:27:14 +0000 2019', 'retweets': 0, 'favorites': 1, 'mentions': '', 'hashtags': '#AIDebate', 'geo': '', 'urls': 'https://www.facebook.com/MontrealAI/videos/498403850881660/', 'author_id': 115557940}\n",
            "\n",
            "{'ID': '1209254135331250176', 'permalink': 'https://twitter.com/imhroberts/status/1209254135331250176', 'username': '', 'text': 'Excited to watch the #AIDebate with Yoshua Bengio and Gary Marcus on the best way forward for AI! pic.twitter.com/idIbvxZjHu', 'date': datetime.datetime(2019, 12, 23, 23, 27, 7), 'formatted_date': 'Mon Dec 23 23:27:07 +0000 2019', 'retweets': 0, 'favorites': 0, 'mentions': '', 'hashtags': '#AIDebate', 'geo': '', 'urls': '', 'author_id': 872322842}\n",
            "\n",
            "{'ID': '1209254078087409665', 'permalink': 'https://twitter.com/GaryMarcus/status/1209254078087409665', 'username': '', 'text': 'links to stream #AIDebate : Direct link: https://www. facebook.com/MontrealAI/vid eos/498403850881660/ … International audience questions for Gary & Yoshua: https:// montrealartificialintelligence.com/aidebate/ (we’re also embedding the live stream on this web page', 'date': datetime.datetime(2019, 12, 23, 23, 26, 53), 'formatted_date': 'Mon Dec 23 23:26:53 +0000 2019', 'retweets': 39, 'favorites': 88, 'mentions': '', 'hashtags': '#AIDebate', 'geo': '', 'urls': 'https://www.facebook.com/MontrealAI/videos/498403850881660/,https://montrealartificialintelligence.com/aidebate/', 'author_id': 232294292}\n",
            "\n",
            "{'ID': '1209252649473691649', 'permalink': 'https://twitter.com/ImageSnippets/status/1209252649473691649', 'username': '', 'text': 'watching the #AIDebate on #twitch where you can chat and vote https:// twitter.com/rhyolight/stat us/1209249775054286848 …', 'date': datetime.datetime(2019, 12, 23, 23, 21, 13), 'formatted_date': 'Mon Dec 23 23:21:13 +0000 2019', 'retweets': 0, 'favorites': 3, 'mentions': '', 'hashtags': '#AIDebate #twitch', 'geo': '', 'urls': 'https://twitter.com/rhyolight/status/1209249775054286848', 'author_id': 1468517006}\n",
            "\n",
            "{'ID': '1209251601464123392', 'permalink': 'https://twitter.com/stenichele/status/1209251601464123392', 'username': '', 'text': 'Popcorn ready #AIDebate pic.twitter.com/2uaDVqC4nH', 'date': datetime.datetime(2019, 12, 23, 23, 17, 3), 'formatted_date': 'Mon Dec 23 23:17:03 +0000 2019', 'retweets': 0, 'favorites': 6, 'mentions': '', 'hashtags': '#AIDebate', 'geo': '', 'urls': '', 'author_id': 44132347}\n",
            "\n",
            "{'ID': '1209249775054286848', 'permalink': 'https://twitter.com/rhyolight/status/1209249775054286848', 'username': '', 'text': 'Just listening to some #lofi and waiting for the #AIDebate to start. https://www. twitch.tv/rhyolight_ pic.twitter.com/2RRxZJch2G', 'date': datetime.datetime(2019, 12, 23, 23, 9, 47), 'formatted_date': 'Mon Dec 23 23:09:47 +0000 2019', 'retweets': 0, 'favorites': 4, 'mentions': '', 'hashtags': '#lofi #AIDebate', 'geo': '', 'urls': 'https://www.twitch.tv/rhyolight_', 'author_id': 6797182}\n",
            "\n",
            "{'ID': '1209249425593421824', 'permalink': 'https://twitter.com/norveclibalikci/status/1209249425593421824', 'username': '', 'text': '#AIDebate last 30 mins!! #GoMarcus', 'date': datetime.datetime(2019, 12, 23, 23, 8, 24), 'formatted_date': 'Mon Dec 23 23:08:24 +0000 2019', 'retweets': 0, 'favorites': 1, 'mentions': '', 'hashtags': '#AIDebate #GoMarcus', 'geo': '', 'urls': '', 'author_id': 97442687}\n",
            "\n",
            "{'ID': '1209247069824782342', 'permalink': 'https://twitter.com/nikogrupen/status/1209247069824782342', 'username': '', 'text': '#AIDebate', 'date': datetime.datetime(2019, 12, 23, 22, 59, 2), 'formatted_date': 'Mon Dec 23 22:59:02 +0000 2019', 'retweets': 0, 'favorites': 0, 'mentions': '', 'hashtags': '#AIDebate', 'geo': '', 'urls': '', 'author_id': 147615935}\n",
            "\n",
            "{'ID': '1209246125603119104', 'permalink': 'https://twitter.com/Synced_Global/status/1209246125603119104', 'username': '', 'text': \"Don't forget the #AIDebate tonight! Yoshua Bengio and Gary Marcus on the best way forward for AI. Live streaming from 6:30 PM – 8:30 PM EST at http:// bit.ly/2Mm8P6e #ArtificialIntelligence #debate pic.twitter.com/IizQBOKyUL\", 'date': datetime.datetime(2019, 12, 23, 22, 55, 17), 'formatted_date': 'Mon Dec 23 22:55:17 +0000 2019', 'retweets': 1, 'favorites': 0, 'mentions': '', 'hashtags': '#AIDebate #ArtificialIntelligence #debate', 'geo': '', 'urls': 'http://bit.ly/2Mm8P6e', 'author_id': 819861340294524928}\n",
            "\n",
            "{'ID': '1209241027023953920', 'permalink': 'https://twitter.com/AngeloDalli/status/1209241027023953920', 'username': '', 'text': 'Eagerly awaiting the debate between @GaryMarcus and Yoshua Bengio on neural nets and symbol manipulation - a bit late in Europe but couldn’t miss this live! #AIDebate @UmnaiBase https:// twitter.com/GaryMarcus/sta tus/1208804812227325953 …', 'date': datetime.datetime(2019, 12, 23, 22, 35, 2), 'formatted_date': 'Mon Dec 23 22:35:02 +0000 2019', 'retweets': 3, 'favorites': 19, 'mentions': '@GaryMarcus @UmnaiBase', 'hashtags': '#AIDebate', 'geo': '', 'urls': 'https://twitter.com/GaryMarcus/status/1208804812227325953', 'author_id': 22894187}\n",
            "\n",
            "{'ID': '1209240551318573056', 'permalink': 'https://twitter.com/SheerazAkram83/status/1209240551318573056', 'username': '', 'text': '#AIDebate \"Debate : Yoshua Bengio | Gary Marcus\" https://www. facebook.com/watch/live/?v= 498403850881660 …', 'date': datetime.datetime(2019, 12, 23, 22, 33, 8), 'formatted_date': 'Mon Dec 23 22:33:08 +0000 2019', 'retweets': 0, 'favorites': 1, 'mentions': '', 'hashtags': '#AIDebate', 'geo': '', 'urls': 'https://www.facebook.com/watch/live/?v=498403850881660', 'author_id': 546683399}\n",
            "\n",
            "{'ID': '1209216278851833857', 'permalink': 'https://twitter.com/rhyolight/status/1209216278851833857', 'username': '', 'text': 'I just started the #AIDebate Pre-Show, where we watch an older debate #LeCunMarcus2017 . See live now at https://www. twitch.tv/rhyolight_ pic.twitter.com/znn597l2Ml', 'date': datetime.datetime(2019, 12, 23, 20, 56, 41), 'formatted_date': 'Mon Dec 23 20:56:41 +0000 2019', 'retweets': 0, 'favorites': 1, 'mentions': '', 'hashtags': '#AIDebate #LeCunMarcus2017', 'geo': '', 'urls': 'https://www.twitch.tv/rhyolight_', 'author_id': 6797182}\n",
            "\n",
            "{'ID': '1209186415399059463', 'permalink': 'https://twitter.com/GaryMarcus/status/1209186415399059463', 'username': '', 'text': 'Questions for the #AIDebate Submit them here: https:// twitter.com/montreal_ai/st atus/1209146676923060228 …', 'date': datetime.datetime(2019, 12, 23, 18, 58, 1), 'formatted_date': 'Mon Dec 23 18:58:01 +0000 2019', 'retweets': 2, 'favorites': 3, 'mentions': '', 'hashtags': '#AIDebate', 'geo': '', 'urls': 'https://twitter.com/montreal_ai/status/1209146676923060228', 'author_id': 232294292}\n",
            "\n",
            "{'ID': '1209172194753830912', 'permalink': 'https://twitter.com/SiaRezaei/status/1209172194753830912', 'username': '', 'text': '@Montreal_AI Yoshua & @GaryMarcus have talked about symbolic processing, taking for granted that everyone agrees on what a symbol is. But: how do you define a symbol? what are its properties? Can an ML algorithm invent its own symbols rather than us hard coding them in? #AIDebate', 'date': datetime.datetime(2019, 12, 23, 18, 1, 31), 'formatted_date': 'Mon Dec 23 18:01:31 +0000 2019', 'retweets': 2, 'favorites': 11, 'mentions': '@Montreal_AI @GaryMarcus', 'hashtags': '#AIDebate', 'geo': '', 'urls': '', 'author_id': 902710385270067201}\n",
            "\n",
            "{'ID': '1209146907303567361', 'permalink': 'https://twitter.com/monabintaboha/status/1209146907303567361', 'username': '', 'text': 'Merci @Montreal_IA pour votre invitation. I’m looking forward to seeing @GaryMarcus and Yoshua at the #AIDebate . اليوم سأتشرف بوجودي لدي حضورٍ كريم ممثلةً لمِصْرَ و الوطن العربي في مناظرة لاستطلاع قضية الذكاء الاصطناعي وكيف يمكننا استغلالَها في الحِقبة القادمة. pic.twitter.com/Gi7R0K9nm9', 'date': datetime.datetime(2019, 12, 23, 16, 21, 2), 'formatted_date': 'Mon Dec 23 16:21:02 +0000 2019', 'retweets': 6, 'favorites': 15, 'mentions': '@Montreal_IA @GaryMarcus', 'hashtags': '#AIDebate', 'geo': '', 'urls': '', 'author_id': 245007283}\n",
            "\n",
            "{'ID': '1209146029158936576', 'permalink': 'https://twitter.com/zehavoc/status/1209146029158936576', 'username': '', 'text': 'What? They put that #AIdebate on twitch? Oh God, my only dream now is that someone will make a video with Street Fighter 2\\'s sound track and special combo sounds. \"you invented nothing and your mama is so fat she can power a data center [Hadukken]\" https:// youtu.be/pHJKS3r_YUg', 'date': datetime.datetime(2019, 12, 23, 16, 17, 32), 'formatted_date': 'Mon Dec 23 16:17:32 +0000 2019', 'retweets': 0, 'favorites': 0, 'mentions': '', 'hashtags': '#AIdebate', 'geo': '', 'urls': 'https://youtu.be/pHJKS3r_YUg', 'author_id': 81869176}\n",
            "\n",
            "{'ID': '1209141949925666817', 'permalink': 'https://twitter.com/JesParent/status/1209141949925666817', 'username': '', 'text': \"A more personal / concise commentary on agreements and disagreements, ahead of tonight's #AIdebate #frontiermap #ML The current state of AI and Deep Learning: A reply to Yoshua Bengio by @GaryMarcus https:// link.medium.com/ym2uaUmfE2\", 'date': datetime.datetime(2019, 12, 23, 16, 1, 20), 'formatted_date': 'Mon Dec 23 16:01:20 +0000 2019', 'retweets': 0, 'favorites': 6, 'mentions': '@GaryMarcus', 'hashtags': '#AIdebate #frontiermap #ML', 'geo': '', 'urls': 'https://link.medium.com/ym2uaUmfE2', 'author_id': 929029531}\n",
            "\n",
            "{'ID': '1209139302619402240', 'permalink': 'https://twitter.com/GaryMarcus/status/1209139302619402240', 'username': '', 'text': 'Reminder that audience questions are welcome! @montreal_ai may monitor this thread for questions or post below a technique for posting questions. Or maybe just tag your questions with #AIDebate https:// twitter.com/smjain/status/ 1209138085704826881 …', 'date': datetime.datetime(2019, 12, 23, 15, 50, 49), 'formatted_date': 'Mon Dec 23 15:50:49 +0000 2019', 'retweets': 3, 'favorites': 7, 'mentions': '@montreal_ai', 'hashtags': '#AIDebate', 'geo': '', 'urls': 'https://twitter.com/smjain/status/1209138085704826881', 'author_id': 232294292}\n",
            "\n",
            "{'ID': '1209135119929397254', 'permalink': 'https://twitter.com/raamana_/status/1209135119929397254', 'username': '', 'text': 'I disagree - we can watch you both speak individually anytime. When experts get together, it’s the “peeling each other’s stances and arguments apart” one little issue at at time (even if it fits a tweet ) that would to progress in a contested debate like this.. #AIdebate', 'date': datetime.datetime(2019, 12, 23, 15, 34, 11), 'formatted_date': 'Mon Dec 23 15:34:11 +0000 2019', 'retweets': 0, 'favorites': 0, 'mentions': '', 'hashtags': '#AIdebate', 'geo': '', 'urls': '', 'author_id': 110940386}\n",
            "\n",
            "{'ID': '1209134372177137664', 'permalink': 'https://twitter.com/rhyolight/status/1209134372177137664', 'username': '', 'text': '@Grady_Booch Are you going to watch the Marcus / Bengio #AIDebate today?', 'date': datetime.datetime(2019, 12, 23, 15, 31, 13), 'formatted_date': 'Mon Dec 23 15:31:13 +0000 2019', 'retweets': 0, 'favorites': 0, 'mentions': '@Grady_Booch', 'hashtags': '#AIDebate', 'geo': '', 'urls': '', 'author_id': 6797182}\n",
            "\n",
            "{'ID': '1209127816496734208', 'permalink': 'https://twitter.com/rhyolight/status/1209127816496734208', 'username': '', 'text': \"Of course, we'll also be online watching the Marcus / Bengio debate live when it streams at 3:30PM PST / 6:30PM EST. We'll be using and reviewing comments using #AIDebate . There will be a video published after, but that's not nearly as much fun as joining me live!\", 'date': datetime.datetime(2019, 12, 23, 15, 5, 10), 'formatted_date': 'Mon Dec 23 15:05:10 +0000 2019', 'retweets': 0, 'favorites': 3, 'mentions': '', 'hashtags': '#AIDebate', 'geo': '', 'urls': '', 'author_id': 6797182}\n",
            "\n",
            "{'ID': '1209127119361462273', 'permalink': 'https://twitter.com/rhyolight/status/1209127119361462273', 'username': '', 'text': \"Today, before the #AIDebate , I'll have a Pre-Debate Show on my @Twitch channel ( https://www. twitch.tv/rhyolight_ ) featuring @GaryMarcus 's last debate with @ylecun . I'll be kicking the tires of the voting system I set up during this time. Please come join for some fun discussion. 1PM PST.\", 'date': datetime.datetime(2019, 12, 23, 15, 2, 24), 'formatted_date': 'Mon Dec 23 15:02:24 +0000 2019', 'retweets': 3, 'favorites': 7, 'mentions': '@Twitch @GaryMarcus @ylecun', 'hashtags': '#AIDebate', 'geo': '', 'urls': 'https://www.twitch.tv/rhyolight_', 'author_id': 6797182}\n",
            "\n",
            "{'ID': '1209105891359899653', 'permalink': 'https://twitter.com/ceobillionaire/status/1209105891359899653', 'username': '', 'text': 'Pre-Debate Material Learning Neural Causal Models from Unknown Interventions Ke et al.: https:// arxiv.org/abs/1910.01075 #AIDebate #MachineLearning #ArtificialIntelligence pic.twitter.com/7zjraRQY1R', 'date': datetime.datetime(2019, 12, 23, 13, 38, 3), 'formatted_date': 'Mon Dec 23 13:38:03 +0000 2019', 'retweets': 4, 'favorites': 10, 'mentions': '', 'hashtags': '#AIDebate #MachineLearning #ArtificialIntelligence', 'geo': '', 'urls': 'https://arxiv.org/abs/1910.01075', 'author_id': 176540776}\n",
            "\n",
            "{'ID': '1209090714497409024', 'permalink': 'https://twitter.com/DeepSenseCA/status/1209090714497409024', 'username': '', 'text': \"We love all things ocean and we also get excited about all things AI. We help companies solve today's challenges with AI but know the future of AI is vast. Join two AI leaders debate the future of AI tonight (or listen post-debate). #AIDebate #oceandata https://www. eventbrite.ca/e/debate-yoshu a-bengio-gary-marcus-live-streaming-tickets-81620778947?utm_campaign=reminder_attendees_event_starting_email&utm_medium=email&ref=eemaileventremind&utm_source=eventbrite&utm_term=eventname …\", 'date': datetime.datetime(2019, 12, 23, 12, 37, 44), 'formatted_date': 'Mon Dec 23 12:37:44 +0000 2019', 'retweets': 1, 'favorites': 2, 'mentions': '', 'hashtags': '#AIDebate #oceandata', 'geo': '', 'urls': 'https://www.eventbrite.ca/e/debate-yoshua-bengio-gary-marcus-live-streaming-tickets-81620778947?utm_campaign=reminder_attendees_event_starting_email&utm_medium=email&ref=eemaileventremind&utm_source=eventbrite&utm_term=eventname', 'author_id': 1123270872561782791}\n",
            "\n",
            "{'ID': '1208898412868976641', 'permalink': 'https://twitter.com/raamana_/status/1208898412868976641', 'username': '', 'text': 'The format isn’t _really_ debate like.. 20 mins is WAY too long for opening statements for our attention spans. I think 5-7 mins each start with and lot of 1-2 mins back & forth [counter-]arguments on each of the contested issues would make #AIdebate productive & entertaining', 'date': datetime.datetime(2019, 12, 22, 23, 53, 36), 'formatted_date': 'Sun Dec 22 23:53:36 +0000 2019', 'retweets': 0, 'favorites': 1, 'mentions': '', 'hashtags': '#AIdebate', 'geo': '', 'urls': '', 'author_id': 110940386}\n",
            "\n",
            "{'ID': '1208824455671242752', 'permalink': 'https://twitter.com/Montreal_AI/status/1208824455671242752', 'username': '', 'text': 'Questions for Gary Marcus and Yoshua Bengio can be submitted via the web form on http:// montreal.ai/aidebate #AIDebate', 'date': datetime.datetime(2019, 12, 22, 18, 59, 43), 'formatted_date': 'Sun Dec 22 18:59:43 +0000 2019', 'retweets': 2, 'favorites': 3, 'mentions': '', 'hashtags': '#AIDebate', 'geo': '', 'urls': 'http://montreal.ai/aidebate', 'author_id': 919860212}\n",
            "\n",
            "{'ID': '1208817023289090050', 'permalink': 'https://twitter.com/bobehayes/status/1208817023289090050', 'username': '', 'text': 'Free and live streaming debate on December 23: #YoshuaBengio and @GaryMarcus on the best way forward for #AI http:// bit.ly/36IyJZS #artificialintelligence #AIDebate pic.twitter.com/6w0WX4wY5b', 'date': datetime.datetime(2019, 12, 22, 18, 30, 11), 'formatted_date': 'Sun Dec 22 18:30:11 +0000 2019', 'retweets': 4, 'favorites': 9, 'mentions': '@GaryMarcus', 'hashtags': '#YoshuaBengio #AI #artificialintelligence #AIDebate', 'geo': '', 'urls': 'http://bit.ly/36IyJZS', 'author_id': 20748873}\n",
            "\n",
            "{'ID': '1208765874246737920', 'permalink': 'https://twitter.com/montrealdotai/status/1208765874246737920', 'username': '', 'text': '\"AI DEBATE : Yoshua Bengio | Gary Marcus\" Yoshua & Gary have agreed to start the AI debate 30 MINUTES EARLY, to allow more time for audience questions! NEW starting time = 6:30 PM Eastern Time, December 23. RSVP for the LIVE STREAMING : https:// bengio-marcus.eventbrite.ca #AIDebate pic.twitter.com/oKhAgQx2pS', 'date': datetime.datetime(2019, 12, 22, 15, 6, 56), 'formatted_date': 'Sun Dec 22 15:06:56 +0000 2019', 'retweets': 6, 'favorites': 6, 'mentions': '', 'hashtags': '#AIDebate', 'geo': '', 'urls': 'https://bengio-marcus.eventbrite.ca', 'author_id': 2437237957}\n",
            "\n",
            "{'ID': '1208764458090323976', 'permalink': 'https://twitter.com/Quebec_AI/status/1208764458090323976', 'username': '', 'text': '\"AI DEBATE : Yoshua Bengio | Gary Marcus\" Yoshua & Gary have agreed to start the AI debate 30 MINUTES EARLY, to allow more time for audience questions! NEW starting time = 6:30 PM Eastern Time, December 23. RSVP for the LIVE STREAMING : https:// bengio-marcus.eventbrite.ca #AIDebate pic.twitter.com/w1y2Dc8Cee', 'date': datetime.datetime(2019, 12, 22, 15, 1, 19), 'formatted_date': 'Sun Dec 22 15:01:19 +0000 2019', 'retweets': 4, 'favorites': 6, 'mentions': '', 'hashtags': '#AIDebate', 'geo': '', 'urls': 'https://bengio-marcus.eventbrite.ca', 'author_id': 2345198082}\n",
            "\n",
            "{'ID': '1208764083954163716', 'permalink': 'https://twitter.com/ceobillionaire/status/1208764083954163716', 'username': '', 'text': '\"AI DEBATE : Yoshua Bengio | Gary Marcus\" Yoshua & Gary have agreed to start the AI debate 30 MINUTES EARLY, to allow more time for audience questions! NEW starting time = 6:30 PM Eastern Time, December 23. RSVP for the LIVE STREAMING : https:// bengio-marcus.eventbrite.ca #AIDebate pic.twitter.com/hAb4kc3vuN', 'date': datetime.datetime(2019, 12, 22, 14, 59, 50), 'formatted_date': 'Sun Dec 22 14:59:50 +0000 2019', 'retweets': 7, 'favorites': 13, 'mentions': '', 'hashtags': '#AIDebate', 'geo': '', 'urls': 'https://bengio-marcus.eventbrite.ca', 'author_id': 176540776}\n",
            "\n",
            "{'ID': '1208504810833625089', 'permalink': 'https://twitter.com/GaryMarcus/status/1208504810833625089', 'username': '', 'text': \"Reminder that Monday's Bengio-Marcus debate starts at 6:30 Eastern Time. - it will be recorded - over 4,000 people have signed up for the livestream - thank you all for the amazing interest! - hashtag #AIDebate to discuss live @twitter on Monday https://www. eventbrite.ca/e/debate-yoshu a-bengio-gary-marcus-live-streaming-tickets-81620778947 … https:// twitter.com/garymarcus/sta tus/1207387492015460352 …\", 'date': datetime.datetime(2019, 12, 21, 21, 49, 34), 'formatted_date': 'Sat Dec 21 21:49:34 +0000 2019', 'retweets': 19, 'favorites': 52, 'mentions': '@twitter', 'hashtags': '#AIDebate', 'geo': '', 'urls': 'https://www.eventbrite.ca/e/debate-yoshua-bengio-gary-marcus-live-streaming-tickets-81620778947,https://twitter.com/garymarcus/status/1207387492015460352', 'author_id': 232294292}\n",
            "\n",
            "{'ID': '1208470757099134976', 'permalink': 'https://twitter.com/ceobillionaire/status/1208470757099134976', 'username': '', 'text': 'Great. See you on Monday! #AIDebate', 'date': datetime.datetime(2019, 12, 21, 19, 34, 15), 'formatted_date': 'Sat Dec 21 19:34:15 +0000 2019', 'retweets': 0, 'favorites': 1, 'mentions': '', 'hashtags': '#AIDebate', 'geo': '', 'urls': '', 'author_id': 176540776}\n",
            "\n",
            "{'ID': '1208390477210378240', 'permalink': 'https://twitter.com/ceobillionaire/status/1208390477210378240', 'username': '', 'text': '4,000 tickets ! #AIDebate pic.twitter.com/Wg1RwyIGk4', 'date': datetime.datetime(2019, 12, 21, 14, 15, 15), 'formatted_date': 'Sat Dec 21 14:15:15 +0000 2019', 'retweets': 5, 'favorites': 9, 'mentions': '', 'hashtags': '#AIDebate', 'geo': '', 'urls': '', 'author_id': 176540776}\n",
            "\n",
            "{'ID': '1208251404818759689', 'permalink': 'https://twitter.com/Montreal_AI/status/1208251404818759689', 'username': '', 'text': 'Pre-Debate Material In celebration of the Bengio-Marcus debate, MIT Press kindly made available Chapter 3 of \"The Algebraic Mind\" : https:// mitpress.mit.edu/books/algebrai c-mind … #AIDebate #Cognition #Neuroscience pic.twitter.com/zHNd8EmrOW', 'date': datetime.datetime(2019, 12, 21, 5, 2, 37), 'formatted_date': 'Sat Dec 21 05:02:37 +0000 2019', 'retweets': 3, 'favorites': 5, 'mentions': '', 'hashtags': '#AIDebate #Cognition #Neuroscience', 'geo': '', 'urls': 'https://mitpress.mit.edu/books/algebraic-mind', 'author_id': 919860212}\n",
            "\n",
            "{'ID': '1207805475284279297', 'permalink': 'https://twitter.com/ceobillionaire/status/1207805475284279297', 'username': '', 'text': 'Preparing to moderate the #AIDebate A decade that has revived the field of AI is ending with the \"AI Debate: Yoshua Bengio | Gary Marcus\". 4 days to go, nearly 4,000 people signed up! RSVP for the live streaming event at https:// bengio-marcus.eventbrite.ca #DeepLearning #MontrealAI pic.twitter.com/MRCVoHqqcB', 'date': datetime.datetime(2019, 12, 19, 23, 30, 39), 'formatted_date': 'Thu Dec 19 23:30:39 +0000 2019', 'retweets': 9, 'favorites': 12, 'mentions': '', 'hashtags': '#AIDebate #DeepLearning #MontrealAI', 'geo': '', 'urls': 'https://bengio-marcus.eventbrite.ca', 'author_id': 176540776}\n",
            "\n",
            "{'ID': '1207740365198913536', 'permalink': 'https://twitter.com/GaryMarcus/status/1207740365198913536', 'username': '', 'text': 'Debate party on @twitch ! Hosted by @rhyolight of @Numenta . #AIDebate will be the twitter hashtag :) Monday, 6:30 eastern time. Recording available soon afterward. https:// twitter.com/rhyolight/stat us/1207739454221213696 …', 'date': datetime.datetime(2019, 12, 19, 19, 11, 56), 'formatted_date': 'Thu Dec 19 19:11:56 +0000 2019', 'retweets': 7, 'favorites': 19, 'mentions': '@twitch @rhyolight @Numenta', 'hashtags': '#AIDebate', 'geo': '', 'urls': 'https://twitter.com/rhyolight/status/1207739454221213696', 'author_id': 232294292}\n",
            "\n",
            "{'ID': '1207443169698291712', 'permalink': 'https://twitter.com/Montreal_AI/status/1207443169698291712', 'username': '', 'text': 'Testing Facebook Live Streaming in preparation for the #AIDebate https:// montrealartificialintelligence.com/aidebate/ #ArtificialIntelligence #DeepLearning pic.twitter.com/PRsSgJgr81', 'date': datetime.datetime(2019, 12, 18, 23, 30, 59), 'formatted_date': 'Wed Dec 18 23:30:59 +0000 2019', 'retweets': 2, 'favorites': 2, 'mentions': '', 'hashtags': '#AIDebate #ArtificialIntelligence #DeepLearning', 'geo': '', 'urls': 'https://montrealartificialintelligence.com/aidebate/', 'author_id': 919860212}\n",
            "\n",
            "{'ID': '1207398231413538817', 'permalink': 'https://twitter.com/Montreal_AI/status/1207398231413538817', 'username': '', 'text': 'The recording of the #AIDebate will be available immediately after the livestream finishes', 'date': datetime.datetime(2019, 12, 18, 20, 32, 25), 'formatted_date': 'Wed Dec 18 20:32:25 +0000 2019', 'retweets': 8, 'favorites': 19, 'mentions': '', 'hashtags': '#AIDebate', 'geo': '', 'urls': '', 'author_id': 919860212}\n",
            "\n",
            "{'ID': '1207397670039556097', 'permalink': 'https://twitter.com/Montreal_AI/status/1207397670039556097', 'username': '', 'text': '\"AI DEBATE : Yoshua Bengio | Gary Marcus\" Yoshua & Gary have agreed to start the AI debate 30 MINUTES EARLY, to allow more time for audience questions! NEW starting time = 6:30 PM Eastern Time, December 23. RSVP for the LIVE STREAMING : https:// bengio-marcus.eventbrite.ca #AIDebate pic.twitter.com/RL8Skr5y5c', 'date': datetime.datetime(2019, 12, 18, 20, 30, 11), 'formatted_date': 'Wed Dec 18 20:30:11 +0000 2019', 'retweets': 21, 'favorites': 36, 'mentions': '', 'hashtags': '#AIDebate', 'geo': '', 'urls': 'https://bengio-marcus.eventbrite.ca', 'author_id': 919860212}\n",
            "\n",
            "{'ID': '1207385279859961857', 'permalink': 'https://twitter.com/LikeAGheesSix/status/1207385279859961857', 'username': '', 'text': \"Yoshua Bengio v/s Gary Marcus on 23rd Dec. Can't wait. #AIDebate\", 'date': datetime.datetime(2019, 12, 18, 19, 40, 57), 'formatted_date': 'Wed Dec 18 19:40:57 +0000 2019', 'retweets': 2, 'favorites': 3, 'mentions': '', 'hashtags': '#AIDebate', 'geo': '', 'urls': '', 'author_id': 1050271684505292801}\n",
            "\n",
            "{'ID': '1207354836313952256', 'permalink': 'https://twitter.com/Montreal_AI/status/1207354836313952256', 'username': '', 'text': 'AI DEBATE: Yoshua Bengio | Gary Marcus 3,500 tickets already reserved! A decade that has revived the field of AI is ending with the #AIDebate “The Best Way Forward For AI” - RSVP for the live streaming event at https:// bengio-marcus.eventbrite.ca #DeepLearning #MontrealAI pic.twitter.com/X5g3xdIaMS', 'date': datetime.datetime(2019, 12, 18, 17, 39, 59), 'formatted_date': 'Wed Dec 18 17:39:59 +0000 2019', 'retweets': 8, 'favorites': 9, 'mentions': '', 'hashtags': '#AIDebate #DeepLearning #MontrealAI', 'geo': '', 'urls': 'https://bengio-marcus.eventbrite.ca', 'author_id': 919860212}\n",
            "\n",
            "{'ID': '1207337377334734855', 'permalink': 'https://twitter.com/bobehayes/status/1207337377334734855', 'username': '', 'text': 'Free and live streaming debate on December 23: #YoshuaBengio and @GaryMarcus on the best way forward for #AI http:// bit.ly/36IyJZS #artificialintelligence #AIDebate pic.twitter.com/tU3MY2zEh7', 'date': datetime.datetime(2019, 12, 18, 16, 30, 36), 'formatted_date': 'Wed Dec 18 16:30:36 +0000 2019', 'retweets': 5, 'favorites': 6, 'mentions': '@GaryMarcus', 'hashtags': '#YoshuaBengio #AI #artificialintelligence #AIDebate', 'geo': '', 'urls': 'http://bit.ly/36IyJZS', 'author_id': 20748873}\n",
            "\n",
            "{'ID': '1206969946053459968', 'permalink': 'https://twitter.com/Turing2014/status/1206969946053459968', 'username': '', 'text': 'Registered for Dec 23rd webcast of #AIDebate between @GaryMarcus and top guy in #DeepLearning : #YoshuaBengio / @eventbrite : https://www. eventbrite.ca/e/debate-yoshu a-bengio-gary-marcus-live-streaming-tickets-81620778947 … #AI #LANGUAGE #human #machine #Intelligence', 'date': datetime.datetime(2019, 12, 17, 16, 10, 34), 'formatted_date': 'Tue Dec 17 16:10:34 +0000 2019', 'retweets': 4, 'favorites': 5, 'mentions': '@GaryMarcus @eventbrite', 'hashtags': '#AIDebate #DeepLearning #YoshuaBengio #AI #LANGUAGE #human #machine #Intelligence', 'geo': '', 'urls': 'https://www.eventbrite.ca/e/debate-yoshua-bengio-gary-marcus-live-streaming-tickets-81620778947', 'author_id': 56082427}\n",
            "\n",
            "{'ID': '1206758743393918977', 'permalink': 'https://twitter.com/ceobillionaire/status/1206758743393918977', 'username': '', 'text': 'AI DEBATE: Yoshua Bengio | Gary Marcus “The Best Way Forward For AI” V.I.P. INVITATION TICKET for the \"IN-PERSON\" Event in Montreal : https:// marcus-bengio.eventbrite.ca #AIDebate #MontrealAI pic.twitter.com/9L3SVjXF2M', 'date': datetime.datetime(2019, 12, 17, 2, 11, 19), 'formatted_date': 'Tue Dec 17 02:11:19 +0000 2019', 'retweets': 8, 'favorites': 11, 'mentions': '', 'hashtags': '#AIDebate #MontrealAI', 'geo': '', 'urls': 'https://marcus-bengio.eventbrite.ca', 'author_id': 176540776}\n",
            "\n",
            "{'ID': '1206729241401933826', 'permalink': 'https://twitter.com/Montreal_AI/status/1206729241401933826', 'username': '', 'text': 'AI DEBATE : Yoshua Bengio | Gary Marcus \"The Best Way Forward For AI\" To Start the Conversation : #AIDebate Questions for Gary Marcus and Yoshua Bengio for the upcoming debate? Submit via this web form! https:// montrealartificialintelligence.com/aidebate #DeepLearning #Innateness pic.twitter.com/7oUfy0BFBz', 'date': datetime.datetime(2019, 12, 17, 0, 14, 5), 'formatted_date': 'Tue Dec 17 00:14:05 +0000 2019', 'retweets': 10, 'favorites': 10, 'mentions': '', 'hashtags': '#AIDebate #DeepLearning #Innateness', 'geo': '', 'urls': 'https://montrealartificialintelligence.com/aidebate', 'author_id': 919860212}\n",
            "\n",
            "{'ID': '1206571263386439681', 'permalink': 'https://twitter.com/Montreal_AI/status/1206571263386439681', 'username': '', 'text': 'AI DEBATE : Yoshua Bengio | Gary Marcus \"The Best Way Forward For AI\" To Start the Conversation : #AIDebate Questions for Gary Marcus and Yoshua Bengio for the upcoming debate? Submit via this web form! https:// montrealartificialintelligence.com/aidebate #DeepLearning #Innateness #MontrealAI pic.twitter.com/MvbBTRt1Sj', 'date': datetime.datetime(2019, 12, 16, 13, 46, 20), 'formatted_date': 'Mon Dec 16 13:46:20 +0000 2019', 'retweets': 2, 'favorites': 3, 'mentions': '', 'hashtags': '#AIDebate #DeepLearning #Innateness #MontrealAI', 'geo': '', 'urls': 'https://montrealartificialintelligence.com/aidebate', 'author_id': 919860212}\n",
            "\n",
            "{'ID': '1206476854049288195', 'permalink': 'https://twitter.com/vitojph/status/1206476854049288195', 'username': '', 'text': 'El próximo lunes 23 es el #AIDebate entre @GaryMarcus y #YoshuaBengio . El registro gratuito para acceder por streaming es https://www. eventbrite.ca/e/debate-yoshu a-bengio-gary-marcus-live-streaming-tickets-81620778947 …', 'date': datetime.datetime(2019, 12, 16, 7, 31, 11), 'formatted_date': 'Mon Dec 16 07:31:11 +0000 2019', 'retweets': 5, 'favorites': 10, 'mentions': '@GaryMarcus', 'hashtags': '#AIDebate #YoshuaBengio', 'geo': '', 'urls': 'https://www.eventbrite.ca/e/debate-yoshua-bengio-gary-marcus-live-streaming-tickets-81620778947', 'author_id': 24897144}\n",
            "\n"
          ],
          "name": "stdout"
        }
      ]
    },
    {
      "cell_type": "code",
      "metadata": {
        "id": "lfPHPu7l456b",
        "colab_type": "code",
        "outputId": "8644b50b-07f1-41e1-dea3-b1a506ba7abf",
        "colab": {
          "base_uri": "https://localhost:8080/",
          "height": 35
        }
      },
      "source": [
        "#get number of tweets\n",
        "len(tweets)"
      ],
      "execution_count": 0,
      "outputs": [
        {
          "output_type": "execute_result",
          "data": {
            "text/plain": [
              "82"
            ]
          },
          "metadata": {
            "tags": []
          },
          "execution_count": 34
        }
      ]
    }
  ]
}